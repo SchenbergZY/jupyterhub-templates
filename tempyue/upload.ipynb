{
 "cells": [
  {
   "cell_type": "markdown",
   "id": "897fa326-05bb-42ce-b0d5-f144029d1f65",
   "metadata": {},
   "source": [
    "# Upload to Current Dataset\n",
    "### 1. Specify files to upload to current dataset"
   ]
  },
  {
   "cell_type": "code",
   "execution_count": null,
   "id": "ad7243ae-a818-48fa-866d-954eac255373",
   "metadata": {},
   "outputs": [],
   "source": [
    "real_user_token = \"\"\n",
    "files_upload = [\"\"]\n",
    "if files_upload == [\"\"]:\n",
    "    raise ValueError(\"You should specify files you want to upload.\")"
   ]
  },
  {
   "cell_type": "code",
   "execution_count": null,
   "id": "da5b3643-3521-44ab-8834-8e78b58f7c6b",
   "metadata": {},
   "outputs": [],
   "source": [
    "f = open('dataset_pid.txt','r');dataset_pid = f.readline();f.close()"
   ]
  },
  {
   "cell_type": "code",
   "execution_count": null,
   "id": "95dff4d7-1f75-4b2b-bec8-75f045b4ddb6",
   "metadata": {},
   "outputs": [],
   "source": [
    "for file in files_upload:\n",
    "    !java -jar .DVUploader-v1.1.0.jar -key={real_user_token} -did=doi:10.82207/FK2/{dataset_pid} -server=https://nfdirepo.fokus.fraunhofer.de {file}\n",
    "    !rm DVUploaderLog*.log"
   ]
  },
  {
   "cell_type": "code",
   "execution_count": null,
   "id": "38ca48d1-3634-40a4-ba35-f3e828c144a5",
   "metadata": {},
   "outputs": [],
   "source": []
  }
 ],
 "metadata": {
  "kernelspec": {
   "display_name": "Python 3 (ipykernel)",
   "language": "python",
   "name": "python3"
  },
  "language_info": {
   "codemirror_mode": {
    "name": "ipython",
    "version": 3
   },
   "file_extension": ".py",
   "mimetype": "text/x-python",
   "name": "python",
   "nbconvert_exporter": "python",
   "pygments_lexer": "ipython3",
   "version": "3.10.6"
  }
 },
 "nbformat": 4,
 "nbformat_minor": 5
}
