{
 "cells": [
  {
   "cell_type": "code",
   "execution_count": null,
   "id": "8c369ead-8b76-4948-a259-b26666337791",
   "metadata": {},
   "outputs": [],
   "source": [
    "real_user_token = \"\"\n",
    "files_upload = [\"\"]\n",
    "if files_upload == [\"\"]:\n",
    "    raise ValueError(\"You should specify files you want to upload.\")"
   ]
  },
  {
   "cell_type": "code",
   "execution_count": null,
   "id": "e69c6a5c-a7ba-4b06-92f5-693747f3e5c0",
   "metadata": {},
   "outputs": [],
   "source": [
    "f = open('dataset_pid.txt','r');dataset_pid = f.readline();f.close()"
   ]
  },
  {
   "cell_type": "code",
   "execution_count": null,
   "id": "372d7367-f926-4351-b2ee-04e9466a039b",
   "metadata": {},
   "outputs": [],
   "source": [
    "for file in files_upload:\n",
    "    !java -jar .DVUploader-v1.1.0.jar -key={real_user_token} -did=doi:10.82207/FK2/{dataset_pid} -server=https://nfdirepo.fokus.fraunhofer.de {file}\n",
    "    !rm DVUploaderLog*.log"
   ]
  },
  {
   "cell_type": "code",
   "execution_count": null,
   "id": "63c0a1d3-1122-41d1-b30d-86341a145d17",
   "metadata": {},
   "outputs": [],
   "source": []
  }
 ],
 "metadata": {
  "kernelspec": {
   "display_name": "Python 3 (ipykernel)",
   "language": "python",
   "name": "python3"
  },
  "language_info": {
   "codemirror_mode": {
    "name": "ipython",
    "version": 3
   },
   "file_extension": ".py",
   "mimetype": "text/x-python",
   "name": "python",
   "nbconvert_exporter": "python",
   "pygments_lexer": "ipython3",
   "version": "3.10.6"
  }
 },
 "nbformat": 4,
 "nbformat_minor": 5
}
