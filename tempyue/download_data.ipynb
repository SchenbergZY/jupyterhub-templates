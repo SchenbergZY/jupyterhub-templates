{
 "cells": [
  {
   "cell_type": "markdown",
   "id": "e1a5843f",
   "metadata": {},
   "source": [
    "# How to download data\n",
    "\n",
    "### 1. Copy your personal token and dataset_id from dataverse within the \"\" below"
   ]
  },
  {
   "cell_type": "code",
   "execution_count": 1,
   "id": "d96abc2a",
   "metadata": {},
   "outputs": [],
   "source": [
    "real_user_token = \"\"\n",
    "dataset_id = \"\""
   ]
  },
  {
   "cell_type": "markdown",
   "id": "6e9cdb57",
   "metadata": {},
   "source": [
    "### 2. Then run the following script by clicking the next cell then \"shift+enter\""
   ]
  },
  {
   "cell_type": "code",
   "execution_count": 2,
   "id": "1e32b374",
   "metadata": {    
    "trusted": true,
    "editable": false,
    "deletable": false},
   "outputs": [],
   "source": [
    "if real_user_token and dataset_id and len(real_user_token)==36:\n",
    "    f = open(\"userinfo.txt\",\"a\")\n",
    "    f.write(\"AAA\"+real_user_token+\"AAAAAAAA\"+dataset_id+\"AA\")\n",
    "    f.close()\n",
    "    !(echo \"import os;f = open(\\\"userinfo.txt\\\");abc = f.read();real_user_token = abc[-48:-48+36];dataset_pid = abc[-4:-2].upper();f.close();os.system('mkdir '+dataset_pid);os.system('mkdir '+dataset_pid);from pathlib import Path;path = Path(\\\".downloaded\\\");\" && echo \"os.system('cd '+dataset_pid+';curl -L -O -J -H \\\"X-Dataverse-key:'+real_user_token+'\\\" http://nfdirepo.fokus.fraunhofer.de/api/access/dataset/'+dataset_pid);tem=open(dataset_pid+'/'+\\\".downloaded\\\",\\\"w\\\");tem.close();os.system('cd '+dataset_pid+';unzip -n dataverse_files.zip');os.system('cd '+dataset_pid+';rm dataverse_files.zip')\" && echo \"path_manifest = Path(dataset_pid+'/MANIFEST.TXT')\" && echo \"if not path_manifest.is_file():print('Your dataset downloaded is unsuccessful.')\") > test2.py;python3 test2.py;rm userinfo.txt;rm test2.py\n",
    "else:\n",
    "    print('Your information typing is not valid.')"
   ]
  },
  {
   "cell_type": "markdown",
   "id": "aefdecba-a114-44cf-9e72-4bebd08d248c",
   "metadata": {},
   "source": [
    "### 3. If you want to download other data, you have to know the dataset_id of those datasets."
   ]
  },
  {
   "cell_type": "code",
   "execution_count": null,
   "id": "6e25532f-bef5-4c85-8491-f46082df7b60",
   "metadata": {},
   "outputs": [],
   "source": []
  }
 ],
 "metadata": {
  "kernelspec": {
   "display_name": "Python 3 (ipykernel)",
   "language": "python",
   "name": "python3"
  },
  "language_info": {
   "codemirror_mode": {
    "name": "ipython",
    "version": 3
   },
   "file_extension": ".py",
   "mimetype": "text/x-python",
   "name": "python",
   "nbconvert_exporter": "python",
   "pygments_lexer": "ipython3",
   "version": "3.10.6"
  }
 },
 "nbformat": 4,
 "nbformat_minor": 5
}
