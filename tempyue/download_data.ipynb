{
 "cells": [
  {
   "cell_type": "markdown",
   "id": "e1a5843f",
   "metadata": {},
   "source": [
    "# How to download data\n",
    "\n",
    "### 1. Copy your personal token and dataset_id from dataverse within the \"\" below"
   ]
  },
  {
   "cell_type": "code",
   "execution_count": 2,
   "id": "d96abc2a",
   "metadata": {},
   "outputs": [],
   "source": [
    "real_user_token = \"\"\n",
    "dataset_id = \"\""
   ]
  },
  {
   "cell_type": "markdown",
   "id": "6e9cdb57",
   "metadata": {},
   "source": [
    "### 2. Then run the following script by clicking the next cell then \"shift+enter\""
   ]
  },
  {
   "cell_type": "code",
   "execution_count": null,
   "id": "1e32b374",
   "metadata": {},
   "outputs": [],
   "source": [
    "if real_user_token and dataset_id and len(real_user_token)==36:\n",
    "    f = open(\"userinfo.txt\",\"a\")\n",
    "    f.write(\"AAA\"+real_user_token+\"\"+dataset_id+\"AA\")\n",
    "    f.close()\n",
    "    !echo \"f = open(\\\"userinfo.txt\\\");abc = f.read();real_user_token = abc[-48:-48+36];dataset_pid = abc[-4:-2].upper();f.close();from pathlib import Path;path = Path(\\\".downloaded\\\");import os;\" && echo \"os.system('curl -L -O -J -H \\\"X-Dataverse-key:'+real_user_token+'\\\" http://nfdirepo.fokus.fraunhofer.de/api/access/dataset/'+dataset_pid);tem=open(\\\".downloaded\\\",\\\"w\\\");tem.close();os.system('unzip -n dataverse_files.zip');os.system('rm dataverse_files.zip')\" && echo \"path_manifest = Path('MANIFEST.TXT')\" && echo \"if not path_manifest.is_file():print('Your dataset downloaded is unsuccessful.')\" > test2.py;python3 test2.py;rm userinfo.txt;rm test2.py\n",
    "else:\n",
    "    print('Your information typing is not valid.')"
   ]
  }
 ],
 "metadata": {
  "kernelspec": {
   "display_name": "Python 3 (ipykernel)",
   "language": "python",
   "name": "python3"
  },
  "language_info": {
   "codemirror_mode": {
    "name": "ipython",
    "version": 3
   },
   "file_extension": ".py",
   "mimetype": "text/x-python",
   "name": "python",
   "nbconvert_exporter": "python",
   "pygments_lexer": "ipython3",
   "version": "3.9.12"
  }
 },
 "nbformat": 4,
 "nbformat_minor": 5
}
